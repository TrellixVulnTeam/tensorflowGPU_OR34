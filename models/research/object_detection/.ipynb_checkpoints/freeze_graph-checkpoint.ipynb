{
 "cells": [
  {
   "cell_type": "code",
   "execution_count": 1,
   "metadata": {},
   "outputs": [
    {
     "name": "stdout",
     "output_type": "stream",
     "text": [
      "WARNING:tensorflow:From <ipython-input-1-ba139e3c121c>:28: FastGFile.__init__ (from tensorflow.python.platform.gfile) is deprecated and will be removed in a future version.\n",
      "Instructions for updating:\n",
      "Use tf.gfile.GFile.\n"
     ]
    }
   ],
   "source": [
    "\n",
    "from __future__ import absolute_import\n",
    "from __future__ import division\n",
    "from __future__ import print_function\n",
    "\n",
    "import tensorflow as tf\n",
    "\n",
    "from google.protobuf import text_format\n",
    "from tensorflow.python.framework import graph_util\n",
    "\n",
    "import argparse\n",
    "import sys\n",
    "import tensorflow as tf\n",
    "\n",
    "from tensorflow.python.platform import app\n",
    "from tensorflow.python.summary import summary\n",
    "\n",
    "import tensorflow as tf\n",
    "import sys\n",
    "from tensorflow.python.platform import gfile\n",
    "\n",
    "from tensorflow.core.protobuf import saved_model_pb2\n",
    "from tensorflow.python.util import compat\n",
    "\n",
    "%rm -rf ./tarinGraph\n",
    "with tf.Session() as sess:\n",
    "\tmodel_filename = '../training/saved_model.pb'\n",
    "\twith gfile.FastGFile(model_filename, 'rb') as f:\n",
    "\n",
    "\t\tdata = compat.as_bytes(f.read())\n",
    "\t\tsm = saved_model_pb2.SavedModel()\n",
    "\t\tsm.ParseFromString(data)\n",
    "\t\t#print(sm)\n",
    "\t\tif 1 != len(sm.meta_graphs):\n",
    "\t\t\tprint('More than one graph found. Not sure which to write')\n",
    "\t\t\tsys.exit(1)\n",
    "\t\t\t\n",
    "\t\t#graph_def = tf.GraphDef()\n",
    "\t\t#graph_def.ParseFromString(sm.meta_graphs[0])\n",
    "\t\tg_in = tf.import_graph_def(sm.meta_graphs[0].graph_def)\n",
    "\tLOGDIR='./tarinGraph'\n",
    "\n",
    "train_writer = tf.summary.FileWriter(LOGDIR)\n",
    "train_writer.add_graph(sess.graph)\n",
    "tf.train.write_graph(sess.graph_def, 'tarinGraph', 'train2.pbtxt', as_text=False)\n",
    "train_writer.flush()\n",
    "train_writer.close()\n"
   ]
  },
  {
   "cell_type": "code",
   "execution_count": 4,
   "metadata": {},
   "outputs": [
    {
     "name": "stdout",
     "output_type": "stream",
     "text": [
      "total 118156\r\n",
      "    4 -rw-rw-r-- 1 vinamra vinamra      278 Jan 11 16:26 checkOutName.py\r\n",
      "    4 drwxrwxr-x 2 vinamra vinamra     4096 Jan 11 02:23 \u001b[0m\u001b[01;34mcheckpoints\u001b[0m/\r\n",
      "    4 -rw-rw-r-- 1 vinamra vinamra      191 Jan 10 17:17 cloud.yml\r\n",
      "    0 -rw-rw-r-- 1 vinamra vinamra        0 Jan 10 17:16 __init__.py\r\n",
      "94552 -rw-rw-r-- 1 vinamra vinamra 96816808 Jan 11 03:38 model.ckpt-5000.data-00000-of-00001\r\n",
      "    4 -rw-rw-r-- 1 vinamra vinamra       34 Jan 10 17:17 object-detection.pbtxt\r\n",
      "22016 -rw-rw-r-- 1 vinamra vinamra 22544002 Jan 10 17:17 output_inference_graph.pb\r\n",
      "    8 -rw-rw-r-- 1 vinamra vinamra     4798 Jan 10 17:17 pipeline.config\r\n",
      "    8 -rw-rw-r-- 1 vinamra vinamra     4775 Jan 11 02:26 raccontrain.config\r\n",
      " 1548 -rw-rw-r-- 1 vinamra vinamra  1583121 Jan 11 03:38 saved_model.pb\r\n",
      "    8 -rw-rw-r-- 1 vinamra vinamra     4314 Jan 10 17:17 ssd_mobilenet_v1_pets.config\r\n"
     ]
    }
   ],
   "source": [
    "%ls -ls ../training"
   ]
  },
  {
   "cell_type": "code",
   "execution_count": 5,
   "metadata": {},
   "outputs": [],
   "source": [
    "\n",
    "FLAGS = tf.app.flags.FLAGS\n",
    "\n",
    "tf.app.flags.DEFINE_string(\"input_graph\", \"./tarinGraph/train2.pbtxt\",\n",
    "                           \"\"\"TensorFlow 'GraphDef' file to load.\"\"\")\n",
    "tf.app.flags.DEFINE_string(\"input_saver\", \"\",\n",
    "                           \"\"\"TensorFlow saver file to load.\"\"\")\n",
    "tf.app.flags.DEFINE_string(\"input_checkpoint\", \"../training/model.ckpt-5000.data-00000-of-00001\",\n",
    "                           \"\"\"TensorFlow variables file to load.\"\"\")\n",
    "tf.app.flags.DEFINE_string(\"output_graph\", \"../training/frozen_graph.pb\",\n",
    "                           \"\"\"Output 'GraphDef' file name.\"\"\")\n",
    "tf.app.flags.DEFINE_boolean(\"input_binary\", True,\n",
    "                            \"\"\"Whether the input files are in binary format.\"\"\")\n",
    "tf.app.flags.DEFINE_string(\"output_node_names\", \"softmax\",\n",
    "                           \"\"\"The name of the output nodes, comma separated.\"\"\")\n",
    "tf.app.flags.DEFINE_string(\"restore_op_name\", \"save/restore_all\",\n",
    "                           \"\"\"The name of the master restore operator.\"\"\")\n",
    "tf.app.flags.DEFINE_string(\"filename_tensor_name\", \"save/Const:0\",\n",
    "                           \"\"\"The name of the tensor holding the save path.\"\"\")\n",
    "tf.app.flags.DEFINE_boolean(\"clear_devices\", True,\n",
    "                            \"\"\"Whether to remove device specifications.\"\"\")\n",
    "tf.app.flags.DEFINE_string(\"initializer_nodes\", \"\", \"comma separated list of \"\n",
    "                                                    \"initializer nodes to run before freezing.\")\n"
   ]
  },
  {
   "cell_type": "code",
   "execution_count": 6,
   "metadata": {},
   "outputs": [],
   "source": [
    "\n",
    "def freeze_graph(input_graph, input_saver, input_binary, input_checkpoint,\n",
    "                 output_node_names, restore_op_name, filename_tensor_name,\n",
    "                 output_graph, clear_devices, initializer_nodes):\n",
    "    \"\"\"Converts all variables in a graph and checkpoint into constants.\"\"\"\n",
    "    print('he is alive')\n",
    "    \n",
    "    if not tf.gfile.Exists(input_graph):\n",
    "        print(\"Input graph file '\" + input_graph + \"' does not exist!\")\n",
    "        return -1\n",
    "\n",
    "    if input_saver and not tf.gfile.Exists(input_saver):\n",
    "        print(\"Input saver file '\" + input_saver + \"' does not exist!\")\n",
    "        return -1\n",
    "\n",
    "    if not tf.gfile.Glob(input_checkpoint):\n",
    "        print(\"Input checkpoint '\" + input_checkpoint + \"' doesn't exist!\")\n",
    "        return -1\n",
    "\n",
    "    if not output_node_names:\n",
    "        print(\"You need to supply the name of a node to --output_node_names.\")\n",
    "        return -1\n",
    "\n",
    "    input_graph_def = tf.GraphDef()\n",
    "\n",
    "    mode = \"rb\" if input_binary else \"r\"\n",
    "    with tf.gfile.FastGFile(input_graph, mode) as f:\n",
    "        if input_binary:\n",
    "            input_graph_def.ParseFromString(f.read())\n",
    "        else:\n",
    "            text_format.Merge(f.read(), input_graph_def)\n",
    "    # Remove all the explicit device specifications for this node. This helps to\n",
    "    # make the graph more portable.\n",
    "    if clear_devices:\n",
    "        for node in input_graph_def.node:\n",
    "            node.device = \"\"\n",
    "    _ = tf.import_graph_def(input_graph_def, name=\"\")\n",
    "\n",
    "    with tf.Session() as sess:\n",
    "        if input_saver:\n",
    "            with tf.gfile.FastGFile(input_saver, mode) as f:\n",
    "                saver_def = tf.train.SaverDef()\n",
    "                if input_binary:\n",
    "                    saver_def.ParseFromString(f.read())\n",
    "                else:\n",
    "                    text_format.Merge(f.read(), saver_def)\n",
    "                saver = tf.train.Saver(saver_def=saver_def)\n",
    "                saver.restore(sess, input_checkpoint)\n",
    "        else:\n",
    "            sess.run([restore_op_name], {filename_tensor_name: input_checkpoint})\n",
    "            if initializer_nodes:\n",
    "                sess.run(initializer_nodes)\n",
    "        output_graph_def = graph_util.convert_variables_to_constants(\n",
    "            sess, input_graph_def, output_node_names.split(\",\"))\n",
    "\n",
    "    with tf.gfile.GFile(output_graph, \"wb\") as f:\n",
    "        f.write(output_graph_def.SerializeToString())\n",
    "    print(\"%d ops in the final graph.\" % len(output_graph_def.node))\n",
    "\n"
   ]
  },
  {
   "cell_type": "code",
   "execution_count": 7,
   "metadata": {},
   "outputs": [],
   "source": [
    "\n",
    "def main(unused_args):\n",
    "    freeze_graph(FLAGS.input_graph, FLAGS.input_saver, FLAGS.input_binary,\n",
    "                 FLAGS.input_checkpoint, FLAGS.output_node_names,\n",
    "                 FLAGS.restore_op_name, FLAGS.filename_tensor_name,\n",
    "                 FLAGS.output_graph, FLAGS.clear_devices, FLAGS.initializer_nodes)\n",
    "\n"
   ]
  },
  {
   "cell_type": "code",
   "execution_count": 8,
   "metadata": {},
   "outputs": [
    {
     "name": "stdout",
     "output_type": "stream",
     "text": [
      "he is alive\n"
     ]
    },
    {
     "ename": "TypeError",
     "evalue": "Cannot interpret feed_dict key as Tensor: The name 'save/Const:0' refers to a Tensor which does not exist. The operation, 'save/Const', does not exist in the graph.",
     "output_type": "error",
     "traceback": [
      "\u001b[0;31m---------------------------------------------------------------------------\u001b[0m",
      "\u001b[0;31mKeyError\u001b[0m                                  Traceback (most recent call last)",
      "\u001b[0;32m~/anaconda3/envs/tgpu/lib/python3.6/site-packages/tensorflow/python/client/session.py\u001b[0m in \u001b[0;36m_run\u001b[0;34m(self, handle, fetches, feed_dict, options, run_metadata)\u001b[0m\n\u001b[1;32m   1091\u001b[0m             subfeed_t = self.graph.as_graph_element(\n\u001b[0;32m-> 1092\u001b[0;31m                 subfeed, allow_tensor=True, allow_operation=False)\n\u001b[0m\u001b[1;32m   1093\u001b[0m           \u001b[0;32mexcept\u001b[0m \u001b[0mException\u001b[0m \u001b[0;32mas\u001b[0m \u001b[0me\u001b[0m\u001b[0;34m:\u001b[0m\u001b[0;34m\u001b[0m\u001b[0;34m\u001b[0m\u001b[0m\n",
      "\u001b[0;32m~/anaconda3/envs/tgpu/lib/python3.6/site-packages/tensorflow/python/framework/ops.py\u001b[0m in \u001b[0;36mas_graph_element\u001b[0;34m(self, obj, allow_tensor, allow_operation)\u001b[0m\n\u001b[1;32m   3489\u001b[0m     \u001b[0;32mwith\u001b[0m \u001b[0mself\u001b[0m\u001b[0;34m.\u001b[0m\u001b[0m_lock\u001b[0m\u001b[0;34m:\u001b[0m\u001b[0;34m\u001b[0m\u001b[0;34m\u001b[0m\u001b[0m\n\u001b[0;32m-> 3490\u001b[0;31m       \u001b[0;32mreturn\u001b[0m \u001b[0mself\u001b[0m\u001b[0;34m.\u001b[0m\u001b[0m_as_graph_element_locked\u001b[0m\u001b[0;34m(\u001b[0m\u001b[0mobj\u001b[0m\u001b[0;34m,\u001b[0m \u001b[0mallow_tensor\u001b[0m\u001b[0;34m,\u001b[0m \u001b[0mallow_operation\u001b[0m\u001b[0;34m)\u001b[0m\u001b[0;34m\u001b[0m\u001b[0;34m\u001b[0m\u001b[0m\n\u001b[0m\u001b[1;32m   3491\u001b[0m \u001b[0;34m\u001b[0m\u001b[0m\n",
      "\u001b[0;32m~/anaconda3/envs/tgpu/lib/python3.6/site-packages/tensorflow/python/framework/ops.py\u001b[0m in \u001b[0;36m_as_graph_element_locked\u001b[0;34m(self, obj, allow_tensor, allow_operation)\u001b[0m\n\u001b[1;32m   3531\u001b[0m                          \u001b[0;34m\"exist. The operation, %s, does not exist in the \"\u001b[0m\u001b[0;34m\u001b[0m\u001b[0;34m\u001b[0m\u001b[0m\n\u001b[0;32m-> 3532\u001b[0;31m                          \"graph.\" % (repr(name), repr(op_name)))\n\u001b[0m\u001b[1;32m   3533\u001b[0m         \u001b[0;32mtry\u001b[0m\u001b[0;34m:\u001b[0m\u001b[0;34m\u001b[0m\u001b[0;34m\u001b[0m\u001b[0m\n",
      "\u001b[0;31mKeyError\u001b[0m: \"The name 'save/Const:0' refers to a Tensor which does not exist. The operation, 'save/Const', does not exist in the graph.\"",
      "\nDuring handling of the above exception, another exception occurred:\n",
      "\u001b[0;31mTypeError\u001b[0m                                 Traceback (most recent call last)",
      "\u001b[0;32m<ipython-input-8-ef0f5c999278>\u001b[0m in \u001b[0;36m<module>\u001b[0;34m\u001b[0m\n\u001b[1;32m      1\u001b[0m \u001b[0;32mif\u001b[0m \u001b[0m__name__\u001b[0m \u001b[0;34m==\u001b[0m \u001b[0;34m\"__main__\"\u001b[0m\u001b[0;34m:\u001b[0m\u001b[0;34m\u001b[0m\u001b[0;34m\u001b[0m\u001b[0m\n\u001b[0;32m----> 2\u001b[0;31m     \u001b[0mtf\u001b[0m\u001b[0;34m.\u001b[0m\u001b[0mapp\u001b[0m\u001b[0;34m.\u001b[0m\u001b[0mrun\u001b[0m\u001b[0;34m(\u001b[0m\u001b[0;34m)\u001b[0m\u001b[0;34m\u001b[0m\u001b[0;34m\u001b[0m\u001b[0m\n\u001b[0m",
      "\u001b[0;32m~/anaconda3/envs/tgpu/lib/python3.6/site-packages/tensorflow/python/platform/app.py\u001b[0m in \u001b[0;36mrun\u001b[0;34m(main, argv)\u001b[0m\n\u001b[1;32m    123\u001b[0m   \u001b[0;31m# Call the main function, passing through any arguments\u001b[0m\u001b[0;34m\u001b[0m\u001b[0;34m\u001b[0m\u001b[0;34m\u001b[0m\u001b[0m\n\u001b[1;32m    124\u001b[0m   \u001b[0;31m# to the final program.\u001b[0m\u001b[0;34m\u001b[0m\u001b[0;34m\u001b[0m\u001b[0;34m\u001b[0m\u001b[0m\n\u001b[0;32m--> 125\u001b[0;31m   \u001b[0m_sys\u001b[0m\u001b[0;34m.\u001b[0m\u001b[0mexit\u001b[0m\u001b[0;34m(\u001b[0m\u001b[0mmain\u001b[0m\u001b[0;34m(\u001b[0m\u001b[0margv\u001b[0m\u001b[0;34m)\u001b[0m\u001b[0;34m)\u001b[0m\u001b[0;34m\u001b[0m\u001b[0;34m\u001b[0m\u001b[0m\n\u001b[0m\u001b[1;32m    126\u001b[0m \u001b[0;34m\u001b[0m\u001b[0m\n",
      "\u001b[0;32m<ipython-input-7-21724ea3ebdb>\u001b[0m in \u001b[0;36mmain\u001b[0;34m(unused_args)\u001b[0m\n\u001b[1;32m      4\u001b[0m                  \u001b[0mFLAGS\u001b[0m\u001b[0;34m.\u001b[0m\u001b[0minput_checkpoint\u001b[0m\u001b[0;34m,\u001b[0m \u001b[0mFLAGS\u001b[0m\u001b[0;34m.\u001b[0m\u001b[0moutput_node_names\u001b[0m\u001b[0;34m,\u001b[0m\u001b[0;34m\u001b[0m\u001b[0;34m\u001b[0m\u001b[0m\n\u001b[1;32m      5\u001b[0m                  \u001b[0mFLAGS\u001b[0m\u001b[0;34m.\u001b[0m\u001b[0mrestore_op_name\u001b[0m\u001b[0;34m,\u001b[0m \u001b[0mFLAGS\u001b[0m\u001b[0;34m.\u001b[0m\u001b[0mfilename_tensor_name\u001b[0m\u001b[0;34m,\u001b[0m\u001b[0;34m\u001b[0m\u001b[0;34m\u001b[0m\u001b[0m\n\u001b[0;32m----> 6\u001b[0;31m                  FLAGS.output_graph, FLAGS.clear_devices, FLAGS.initializer_nodes)\n\u001b[0m\u001b[1;32m      7\u001b[0m \u001b[0;34m\u001b[0m\u001b[0m\n",
      "\u001b[0;32m<ipython-input-6-31e706b3fdd5>\u001b[0m in \u001b[0;36mfreeze_graph\u001b[0;34m(input_graph, input_saver, input_binary, input_checkpoint, output_node_names, restore_op_name, filename_tensor_name, output_graph, clear_devices, initializer_nodes)\u001b[0m\n\u001b[1;32m     48\u001b[0m                 \u001b[0msaver\u001b[0m\u001b[0;34m.\u001b[0m\u001b[0mrestore\u001b[0m\u001b[0;34m(\u001b[0m\u001b[0msess\u001b[0m\u001b[0;34m,\u001b[0m \u001b[0minput_checkpoint\u001b[0m\u001b[0;34m)\u001b[0m\u001b[0;34m\u001b[0m\u001b[0;34m\u001b[0m\u001b[0m\n\u001b[1;32m     49\u001b[0m         \u001b[0;32melse\u001b[0m\u001b[0;34m:\u001b[0m\u001b[0;34m\u001b[0m\u001b[0;34m\u001b[0m\u001b[0m\n\u001b[0;32m---> 50\u001b[0;31m             \u001b[0msess\u001b[0m\u001b[0;34m.\u001b[0m\u001b[0mrun\u001b[0m\u001b[0;34m(\u001b[0m\u001b[0;34m[\u001b[0m\u001b[0mrestore_op_name\u001b[0m\u001b[0;34m]\u001b[0m\u001b[0;34m,\u001b[0m \u001b[0;34m{\u001b[0m\u001b[0mfilename_tensor_name\u001b[0m\u001b[0;34m:\u001b[0m \u001b[0minput_checkpoint\u001b[0m\u001b[0;34m}\u001b[0m\u001b[0;34m)\u001b[0m\u001b[0;34m\u001b[0m\u001b[0;34m\u001b[0m\u001b[0m\n\u001b[0m\u001b[1;32m     51\u001b[0m             \u001b[0;32mif\u001b[0m \u001b[0minitializer_nodes\u001b[0m\u001b[0;34m:\u001b[0m\u001b[0;34m\u001b[0m\u001b[0;34m\u001b[0m\u001b[0m\n\u001b[1;32m     52\u001b[0m                 \u001b[0msess\u001b[0m\u001b[0;34m.\u001b[0m\u001b[0mrun\u001b[0m\u001b[0;34m(\u001b[0m\u001b[0minitializer_nodes\u001b[0m\u001b[0;34m)\u001b[0m\u001b[0;34m\u001b[0m\u001b[0;34m\u001b[0m\u001b[0m\n",
      "\u001b[0;32m~/anaconda3/envs/tgpu/lib/python3.6/site-packages/tensorflow/python/client/session.py\u001b[0m in \u001b[0;36mrun\u001b[0;34m(self, fetches, feed_dict, options, run_metadata)\u001b[0m\n\u001b[1;32m    927\u001b[0m     \u001b[0;32mtry\u001b[0m\u001b[0;34m:\u001b[0m\u001b[0;34m\u001b[0m\u001b[0;34m\u001b[0m\u001b[0m\n\u001b[1;32m    928\u001b[0m       result = self._run(None, fetches, feed_dict, options_ptr,\n\u001b[0;32m--> 929\u001b[0;31m                          run_metadata_ptr)\n\u001b[0m\u001b[1;32m    930\u001b[0m       \u001b[0;32mif\u001b[0m \u001b[0mrun_metadata\u001b[0m\u001b[0;34m:\u001b[0m\u001b[0;34m\u001b[0m\u001b[0;34m\u001b[0m\u001b[0m\n\u001b[1;32m    931\u001b[0m         \u001b[0mproto_data\u001b[0m \u001b[0;34m=\u001b[0m \u001b[0mtf_session\u001b[0m\u001b[0;34m.\u001b[0m\u001b[0mTF_GetBuffer\u001b[0m\u001b[0;34m(\u001b[0m\u001b[0mrun_metadata_ptr\u001b[0m\u001b[0;34m)\u001b[0m\u001b[0;34m\u001b[0m\u001b[0;34m\u001b[0m\u001b[0m\n",
      "\u001b[0;32m~/anaconda3/envs/tgpu/lib/python3.6/site-packages/tensorflow/python/client/session.py\u001b[0m in \u001b[0;36m_run\u001b[0;34m(self, handle, fetches, feed_dict, options, run_metadata)\u001b[0m\n\u001b[1;32m   1093\u001b[0m           \u001b[0;32mexcept\u001b[0m \u001b[0mException\u001b[0m \u001b[0;32mas\u001b[0m \u001b[0me\u001b[0m\u001b[0;34m:\u001b[0m\u001b[0;34m\u001b[0m\u001b[0;34m\u001b[0m\u001b[0m\n\u001b[1;32m   1094\u001b[0m             raise TypeError(\n\u001b[0;32m-> 1095\u001b[0;31m                 'Cannot interpret feed_dict key as Tensor: ' + e.args[0])\n\u001b[0m\u001b[1;32m   1096\u001b[0m \u001b[0;34m\u001b[0m\u001b[0m\n\u001b[1;32m   1097\u001b[0m           \u001b[0;32mif\u001b[0m \u001b[0misinstance\u001b[0m\u001b[0;34m(\u001b[0m\u001b[0msubfeed_val\u001b[0m\u001b[0;34m,\u001b[0m \u001b[0mops\u001b[0m\u001b[0;34m.\u001b[0m\u001b[0mTensor\u001b[0m\u001b[0;34m)\u001b[0m\u001b[0;34m:\u001b[0m\u001b[0;34m\u001b[0m\u001b[0;34m\u001b[0m\u001b[0m\n",
      "\u001b[0;31mTypeError\u001b[0m: Cannot interpret feed_dict key as Tensor: The name 'save/Const:0' refers to a Tensor which does not exist. The operation, 'save/Const', does not exist in the graph."
     ]
    }
   ],
   "source": [
    "if __name__ == \"__main__\":\n",
    "    tf.app.run()\n"
   ]
  },
  {
   "cell_type": "code",
   "execution_count": null,
   "metadata": {},
   "outputs": [],
   "source": []
  },
  {
   "cell_type": "code",
   "execution_count": null,
   "metadata": {},
   "outputs": [],
   "source": []
  },
  {
   "cell_type": "code",
   "execution_count": null,
   "metadata": {},
   "outputs": [],
   "source": []
  }
 ],
 "metadata": {
  "kernelspec": {
   "display_name": "Python 3",
   "language": "python",
   "name": "python3"
  },
  "language_info": {
   "codemirror_mode": {
    "name": "ipython",
    "version": 3
   },
   "file_extension": ".py",
   "mimetype": "text/x-python",
   "name": "python",
   "nbconvert_exporter": "python",
   "pygments_lexer": "ipython3",
   "version": "3.6.8"
  }
 },
 "nbformat": 4,
 "nbformat_minor": 1
}
